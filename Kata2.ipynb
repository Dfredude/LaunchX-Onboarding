{
 "cells": [
  {
   "cell_type": "markdown",
   "metadata": {},
   "source": [
    "## Creating virtual environment\n",
    " - Run `python -m venv test`\n",
    " > ![Test](https://github.com/Dfredude/LaunchX-Microsoft/blob/main/images/venvcreation.png?raw=true)\n",
    " - Here is the venv \"test\" created \n",
    " > ![Image](https://github.com/Dfredude/LaunchX-Microsoft/blob/main/images/venv.png?raw=true)\n",
    " "
   ]
  },
  {
   "cell_type": "markdown",
   "metadata": {},
   "source": [
    "## Activating virtual environment\n",
    "- Run `test\\Scripts\\activate.bat`\n",
    "> ![Image](https://github.com/Dfredude/LaunchX-Microsoft/blob/main/images/activatevenv.png?raw=true)\n",
    "- Here is what appears on the left when you are in venv mode\n",
    "> ![Image](https://github.com/Dfredude/LaunchX-Microsoft/blob/main/images/venvinaction.png?raw=true)\n"
   ]
  },
  {
   "cell_type": "markdown",
   "metadata": {},
   "source": [
    "## Seeing packages installed within virtual environment\n",
    "- Run `pip freeze`\n",
    "> ![Image](https://github.com/Dfredude/LaunchX-Microsoft/blob/main/images/pipfreeze.png?raw=true)\n",
    "- In this example these are the packages I have installed within the virtual environment\n",
    "> ![Image](https://github.com/Dfredude/LaunchX-Microsoft/blob/main/images/packages.png?raw=true)"
   ]
  }
 ],
 "metadata": {
  "language_info": {
   "name": "python"
  },
  "orig_nbformat": 4
 },
 "nbformat": 4,
 "nbformat_minor": 2
}
