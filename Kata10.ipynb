{
 "cells": [
  {
   "cell_type": "markdown",
   "metadata": {},
   "source": [
    "# Ejercicios"
   ]
  },
  {
   "cell_type": "markdown",
   "metadata": {},
   "source": [
    "> At the end of the notebook is the section to run the examples"
   ]
  },
  {
   "cell_type": "markdown",
   "metadata": {},
   "source": [
    "## Traceback example"
   ]
  },
  {
   "cell_type": "code",
   "execution_count": 26,
   "metadata": {},
   "outputs": [],
   "source": [
    "def trace_back_example():\n",
    "    open(\"/path/to/mars.jpg\")"
   ]
  },
  {
   "cell_type": "markdown",
   "metadata": {},
   "source": [
    "## Customizing  tracebacks exceptions"
   ]
  },
  {
   "cell_type": "code",
   "execution_count": 27,
   "metadata": {},
   "outputs": [],
   "source": [
    "def custom_traceback():\n",
    "    try: open(\"config.txt\")\n",
    "    except FileNotFoundError: print(\"Couldn't find the config.txt file\")\n",
    "#Run a second time with a config directory created and exception will be wrong\n",
    "\n",
    "def custom_traceback_improved():\n",
    "    try: open(\"config.txt\")\n",
    "    except FileNotFoundError: print(\"Couldn't find the config.txt file\")\n",
    "    except IsADirectoryError: print(\"Found config.txt but it's a directory, couldn't read it.\")"
   ]
  },
  {
   "cell_type": "markdown",
   "metadata": {},
   "source": [
    "## Using `as`"
   ]
  },
  {
   "cell_type": "code",
   "execution_count": 28,
   "metadata": {},
   "outputs": [],
   "source": [
    "def using_as():\n",
    "    try: open(\"mars.jpg\")\n",
    "    except FileNotFoundError as err: \n",
    "        print(\"Got a problem reading the mars.jpg file\", err)"
   ]
  },
  {
   "cell_type": "markdown",
   "metadata": {},
   "source": [
    "## Using `as` for multiple exceptions"
   ]
  },
  {
   "cell_type": "code",
   "execution_count": 29,
   "metadata": {},
   "outputs": [],
   "source": [
    "def using_as_v2():\n",
    "    try: open(\"config.txt\")\n",
    "    except OSError as err: \n",
    "        if err.errno == 2:\n",
    "            print(\"Couldn't find the config.txt file\")\n",
    "        elif err.errno == 13:\n",
    "            print(\"found config.txt but couldn't open it\")"
   ]
  },
  {
   "cell_type": "markdown",
   "metadata": {},
   "source": [
    "## Astronauts example"
   ]
  },
  {
   "cell_type": "code",
   "execution_count": null,
   "metadata": {},
   "outputs": [],
   "source": [
    "def water_left(astronauts, water_left, days_left):\n",
    "    daily_usage = astronauts*11\n",
    "    total_usage= daily_usage*days_left\n",
    "    total_water_left = water_left - total_usage\n",
    "    if total_water_left < 0:\n",
    "        raise RuntimeError(f\"There is not enough water for {astronauts} astronauts after {days_left} days!\")\n",
    "    return f\"Total water left after {days_left} days is: {total_water_left} liters\""
   ]
  },
  {
   "cell_type": "markdown",
   "metadata": {},
   "source": [
    "## Running section"
   ]
  },
  {
   "cell_type": "code",
   "execution_count": 30,
   "metadata": {},
   "outputs": [
    {
     "name": "stdout",
     "output_type": "stream",
     "text": [
      "found config.txt but couldn't open it\n"
     ]
    }
   ],
   "source": [
    "#trace_back_example()\n",
    "#custom_traceback()\n",
    "#custom_traceback_improved()\n",
    "#using_as_v2()\n",
    "water_left(4, 20, 10)"
   ]
  }
 ],
 "metadata": {
  "interpreter": {
   "hash": "24015ff2fa19fc1f82e93907bcc39bd93cf856d437f986557e956ba671379c70"
  },
  "kernelspec": {
   "display_name": "Python 3.10.2 64-bit",
   "language": "python",
   "name": "python3"
  },
  "language_info": {
   "codemirror_mode": {
    "name": "ipython",
    "version": 3
   },
   "file_extension": ".py",
   "mimetype": "text/x-python",
   "name": "python",
   "nbconvert_exporter": "python",
   "pygments_lexer": "ipython3",
   "version": "3.10.2"
  },
  "orig_nbformat": 4
 },
 "nbformat": 4,
 "nbformat_minor": 2
}
