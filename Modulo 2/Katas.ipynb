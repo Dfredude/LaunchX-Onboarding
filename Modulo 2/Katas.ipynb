{
 "cells": [
  {
   "cell_type": "markdown",
   "metadata": {},
   "source": [
    "## Creating virtual environment\n",
    " - #### Run `python -m venv test`\n",
    " ![Test](images\\venvcreation.png)\n",
    " - #### Here is the venv \"test\" created \n",
    " ![Image](images\\venv.png)\n",
    " "
   ]
  },
  {
   "cell_type": "markdown",
   "metadata": {},
   "source": [
    "## Activating virtual environment\n",
    "- #### Run `test\\Scripts\\activate.bat`\n",
    "![Image](\\images\\activatevenv.png)\n",
    "- #### Here is what appears on the left when you are in venv mode\n",
    "![Image](\\images\\venvinaction.png)\n"
   ]
  },
  {
   "cell_type": "markdown",
   "metadata": {},
   "source": [
    "## Seeing packages installed within virtual environment\n",
    "- #### Run `pip freeze`\n",
    "![Image](images\\pipfreeze.png)\n",
    "- #### In this example these are the packages I have installed within the virtual environment\n",
    "![Image](images\\packages.png)"
   ]
  }
 ],
 "metadata": {
  "language_info": {
   "name": "python"
  },
  "orig_nbformat": 4
 },
 "nbformat": 4,
 "nbformat_minor": 2
}
